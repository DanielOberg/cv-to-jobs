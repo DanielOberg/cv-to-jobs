{
 "cells": [
  {
   "cell_type": "code",
   "execution_count": 459,
   "metadata": {
    "collapsed": true
   },
   "outputs": [],
   "source": []
  },
  {
   "cell_type": "code",
   "execution_count": 2,
   "metadata": {},
   "outputs": [],
   "source": [
    "import json\n",
    "import os.path\n",
    "import time\n"
   ]
  },
  {
   "cell_type": "code",
   "execution_count": 53,
   "metadata": {},
   "outputs": [],
   "source": [
    "import glob\n",
    "from pprint import pprint\n",
    "import random\n",
    "import snowballstemmer\n",
    "stemmer = snowballstemmer.stemmer('swedish');\n",
    "\n",
    "all_ids = {}\n",
    "all_content = {}\n",
    "\n",
    "\n",
    "for json_file in glob.glob('data/*.json'):\n",
    "    data = json.load(open(json_file))\n",
    "    all_ids.setdefault(data['yrkesbenamning'], []).append(data['annonsid'])\n",
    "    all_content[data['annonsid']] = data\n",
    "\n",
    "    \n",
    "import json\n",
    "with open('alla_annonser.json', 'w') as outfile:\n",
    "    json.dump(all_content, outfile)\n",
    "max_antal_jobb = 20\n",
    "\n",
    "train_x = []\n",
    "train_y = []\n",
    "train_ids = []\n",
    "test_x = []\n",
    "test_y = []\n",
    "test_ids = []\n",
    "val_x = []\n",
    "val_y = []\n",
    "val_ids = []\n",
    "#pprint(all_ids)\n",
    "sorted_list = sorted(all_ids.items(), key=lambda i: len(i[1]))[-max_antal_jobb:]\n",
    "\n",
    "for s in sorted_list:\n",
    "    name = s[0]\n",
    "    for aid in s[1]:\n",
    "        rand = random.random()\n",
    "        if rand < 0.1:\n",
    "            val_y.append(name)\n",
    "            val_x.append(' '.join(stemmer.stemWords(all_content[aid]['annonstext'].split())))\n",
    "            val_ids.append(aid)\n",
    "        elif rand < 0.2:\n",
    "            test_y.append(name)\n",
    "            test_x.append(' '.join(stemmer.stemWords(all_content[aid]['annonstext'].split())))\n",
    "            test_ids.append(aid)\n",
    "        else:\n",
    "            train_y.append(name)\n",
    "            train_x.append(' '.join(stemmer.stemWords(all_content[aid]['annonstext'].split())))\n",
    "            train_ids.append(aid)\n",
    "#pprint(sorted_list)"
   ]
  },
  {
   "cell_type": "code",
   "execution_count": 4,
   "metadata": {},
   "outputs": [
    {
     "name": "stdout",
     "output_type": "stream",
     "text": [
      "0017-322354    Tattys skönhetsvård ligger i Vällingby centrum...\n",
      "0017-371112    Vi växer och behöver nu anställa fler vvs-mont...\n",
      "0017-371140    Vi växer och behöver nu anställa fler elektrik...\n",
      "0017-377779    Shs Gruppen AB söker nu snickare!\\r\\n\\r\\nArbet...\n",
      "0017-380837    Verksamhetsbeskrivning:\\r\\n\\r\\nTM Markmiljö AB...\n",
      "0017-408003    Verksamhetsbeskrivning:\\r\\n\\r\\nTM Markmiljö AB...\n",
      "0017-415041    Du behöver vara kvinna som söker denna tjänst ...\n",
      "0017-438176    Vi behöver omgående stärka upp vår bemanning p...\n",
      "0017-438520    3 Servitörerer/servitriser till Indian Garden,...\n",
      "0017-448937    Nu behöver vi förstärkning till vår kundmottag...\n",
      "0017-452240    Verksamhetsbeskrivning\\r\\n\\r\\nVi är ett litet ...\n",
      "0017-452878    Verksamhetsbeskrivning\\r\\nVi är ett litet före...\n",
      "0017-478228    Mohlins Bussar expanderar!\\r\\n\\r\\nFöretaget sö...\n",
      "0017-482670    Verksamhetsbeskrivning:\\r\\n\\r\\nBolaget skall p...\n",
      "0017-482870    Verksamhetsbeskrivning:\\r\\n\\r\\nBolaget skall p...\n",
      "0017-483866    Vi söker taxiförare för omgående anställning i...\n",
      "0017-483992    Vi söker chaufförer.\\r\\n\\r\\nVi är ett företag ...\n",
      "0017-491433    Nu söker vi en poolreparatör för en timanställ...\n",
      "0017-491519    Vi har en 1000 kvm stor lagerbutik som är den ...\n",
      "0017-500602    Frisörlagret söker frisör!\\r\\n\\r\\nHar du erfar...\n",
      "0017-506200    Attorney Esq. AB startades år 1993 och är en b...\n",
      "0017-511427    Helldog är en grillvagn som säljer hamburgare,...\n",
      "0017-517813    Frisörer sökes till Mall of Scandinavia\\r\\n\\r\\...\n",
      "0017-527203    Chili Pizza står för kvalitet, underbara dofte...\n",
      "0017-528442    Astma - allergi - lungmottagning på Fysikalisk...\n",
      "0017-534364    Körkortspedagogen Trafikskola i Farsta strand ...\n",
      "0017-544505    Taxi 08 Expressbyrå AB söker nu ett antal taxi...\n",
      "0017-547399    Väx tillsammans med oss på Jungheinrich - Nu s...\n",
      "0017-547585    Väx tillsammans med oss på Jungheinrich - Nu s...\n",
      "0017-547599    Väx tillsammans med oss på Jungheinrich - Nu s...\n",
      "                                     ...                        \n",
      "7558838        Har du ett stort tekniskt intresse, ett par år...\n",
      "7558840        Tar du examen under våren 2018 eller har nylig...\n",
      "7558841        Tar du examen under våren 2018 eller har nylig...\n",
      "7558842        Är du i början av din karriär och vill testa d...\n",
      "7558843        WSP har gjort en stark resa senaste åren och s...\n",
      "7558844        Tar du examen under våren 2018 eller har nylig...\n",
      "7558846        Hantverksdata är bolaget som underlättar varda...\n",
      "7558850        Har du ett stort filmintresse, gärna har en ba...\n",
      "7558852        Brinner du för teknik och vill arbeta med utve...\n",
      "7558854        Har du ett stort tekniskt intresse och vill ar...\n",
      "7558859        Är du en person som vill arbeta med försäljnin...\n",
      "7558860        Är du en framåtsträvande person med ett leende...\n",
      "7558862        Räknar du minuterna tills arbetsdagen ska ta s...\n",
      "7558863        Sugen på en snabb, rolig och utvecklande ny ka...\n",
      "7558864        Vi söker dig som alltid har ett leende på läpp...\n",
      "7558865        För de allra flesta som känner söndagsångest ä...\n",
      "7558869        Haninge är inte bara skärgård. Här – 20 minute...\n",
      "7558870        Arbetsplatsbeskrivning  \\n\\nLänsstyrelsen är r...\n",
      "7558871        Arbetsplatsbeskrivning \\n Länsstyrelsen är reg...\n",
      "7558872        Habilitering och Hälsa är en verksamhet inom S...\n",
      "7558881        Om tjänsten\\r\\nTill vår kund i centrala Stockh...\n",
      "7558883        Greenpeace arbetar aktivt för en frisk, välmåe...\n",
      "7558898        Vi söker passionerade Baristor som vill satsa ...\n",
      "7558899        Om jobbet\\nSom innesäljare kommer du att bearb...\n",
      "7558901        Tellit är en ny aktör på telefoni marknaden. V...\n",
      "7558902        Habilitering och Hälsa är en verksamhet inom S...\n",
      "7558903        AlfaWall är marknadsledande på rening av balla...\n",
      "7558904        Arbetsplatsen\\n\\nLänsstyrelsen är regeringens ...\n",
      "7558907        Arbetsplatsen\\n\\nLänsstyrelsen är regeringens ...\n",
      "7558909        Infinity är det lilla rekryteringsföretaget me...\n",
      "Name: annonstext, Length: 25152, dtype: object\n"
     ]
    }
   ],
   "source": [
    "import pandas as pd\n",
    "import zipfile\n",
    "import io\n",
    "import urllib\n",
    "import json\n",
    "\n",
    "df = pd.DataFrame()\n",
    "with open('alla_annonser.json', 'r') as outfile:\n",
    "    df = pd.read_json(outfile, orient='index')\n",
    "print(df['annonstext'])"
   ]
  },
  {
   "cell_type": "code",
   "execution_count": 5,
   "metadata": {},
   "outputs": [
    {
     "data": {
      "text/plain": [
       "1557"
      ]
     },
     "execution_count": 5,
     "metadata": {},
     "output_type": "execute_result"
    }
   ],
   "source": [
    "len(sample_x)"
   ]
  },
  {
   "cell_type": "code",
   "execution_count": 37,
   "metadata": {},
   "outputs": [
    {
     "name": "stdout",
     "output_type": "stream",
     "text": [
      "Om jobbet Idag arbet mång av vår kund inom mjukvaruutveckling mot mer agil arbetssät och vi ser därför ett ökat behov av produktäg på marknaden! Sökord: Produktägare, Agile, Product owner, Mjukvaruutveckling, Software, Scrum Master, Teknisk projektledning I roll som produktäg komm du ha ett övergrip ansv för en produk und hel dess livscykel. Du komm få ta roll som spindeln i nätet och hanter olik intressenter önskemål, krav och behov. Det komm då var upp dig till att prioriter dess och håll backlog uppdaterad. På ÅF är vi stor inom produktutveckling i bransch som telecom, fordon och medtech och jobb med båd små och stor bolag. Kund finn i Stockholmsregion och uppdrag utför i viss fall på plat hos kund och i andr fall på vårt huvudkont i Solna. På ÅF tyck vi även att det är vikt att du triv på jobbet! Därför erbjud frukostseminarium, afterwork, aktivitetsklubbar, föreläsning och friskvård. Vem är du? Vi sök dig som är certifierad/utbild Scrum Mast ell agil produktäg samt har jobb som dett i minst två år. Du skall även ha relevant teknisk utbildningsbakgrund, civil-ell högskoleingenjör, samt ha god kunskap i svensk och engelska. Har du även jobb som teknisk projektled ell mjukvaruutveckl är det stark meriterande. Som konsultbolag lägg vi även stor vikt vid din person egenskaper. I roll som produktäg (och konsult) är det vikt att du har en förmåg att jobb självständ och ta egn initiativ. Eftersom du komm ha en roll med mång kontaktyt är det även vikt att du triv med att samarbet med mång och olik typ av människor. START: Omgående, med hänsyn till ev. uppsägningstid PLATS: Stockholm Stämm dett in på dig? Skick in din ansökan redan idag! Urvalet sker löp och tjänst kan komm att tillsät innan sist ansökningsdatumet. Vi erbjud Vi sök dig som vill var en del av ÅFs framgångssaga. Brinn du för teknisk utveckling? Gill du att samarbet för att hitt den bäst lösningen? Då kan vi erbjud dig karriärmöj på en mod arbetsplat med utman arbetsuppgift och spänn projek värld över. ÅF är rank som en av Sver mest populär arbetsgiv bland ingenjörer. Hos oss är du med och utveckl innovativ och hållbar lösning inom infrastruktur, energi och industri. Just nu sök vi marknad vass kompet som tillsamman med oss vill skap framtid samhälle. Vi hopp också att du komm lär dig lik mycket av oss som vi komm gör av dig. Om företaget ÅF är ett ingenjörs- och designföretag med verksam inom energi, industri och infrastruktur. Vi skap hållbar lösning för komm generation genom att fören människ och teknik. Vår bas är i Europ och vår affär och kund finn över hel världen. ÅF Making Future.\n"
     ]
    }
   ],
   "source": [
    "print(sample_x[8])"
   ]
  },
  {
   "cell_type": "code",
   "execution_count": 67,
   "metadata": {},
   "outputs": [
    {
     "name": "stderr",
     "output_type": "stream",
     "text": [
      "/anaconda/lib/python3.6/site-packages/sklearn/linear_model/stochastic_gradient.py:128: FutureWarning: max_iter and tol parameters have been added in <class 'sklearn.linear_model.stochastic_gradient.SGDClassifier'> in 0.19. If both are left unset, they default to max_iter=5 and tol=None. If tol is not None, max_iter defaults to max_iter=1000. From 0.21, default max_iter will be 1000, and default tol will be 1e-3.\n",
      "  \"and default tol will be 1e-3.\" % type(self), FutureWarning)\n"
     ]
    },
    {
     "name": "stdout",
     "output_type": "stream",
     "text": [
      "SGDClassifier(alpha=0.002, average=False, class_weight=None, epsilon=0.05,\n",
      "       eta0=0.0, fit_intercept=True, l1_ratio=0.15,\n",
      "       learning_rate='optimal', loss='hinge', max_iter=None, n_iter=None,\n",
      "       n_jobs=1, penalty='l2', power_t=0.5, random_state=None,\n",
      "       shuffle=True, tol=None, verbose=0, warm_start=False)\n"
     ]
    }
   ],
   "source": [
    "from sklearn.pipeline import Pipeline\n",
    "from sklearn.feature_extraction.text import CountVectorizer\n",
    "from sklearn.feature_extraction.text import TfidfTransformer, TfidfVectorizer\n",
    "from sklearn.linear_model import SGDClassifier\n",
    "from sklearn.ensemble import RandomForestClassifier\n",
    "from sklearn import tree\n",
    "\n",
    "vecto = TfidfVectorizer(max_features = 100000, max_df = 0.35, min_df = 2, sublinear_tf=True, binary = True)\n",
    "#classifier = tree.DecisionTreeClassifier(max_depth = 10, max_leaf_nodes = max_antal_jobb)\n",
    "classifier = SGDClassifier(alpha=0.002, epsilon=0.05, average=False)\n",
    "text_clf = Pipeline([\n",
    "                     ('tfidf', vecto),\n",
    "                     ('clf', classifier)])\n",
    "text_clf.fit(train_x, train_y)\n",
    "print(classifier)"
   ]
  },
  {
   "cell_type": "code",
   "execution_count": null,
   "metadata": {
    "collapsed": true
   },
   "outputs": [],
   "source": []
  },
  {
   "cell_type": "code",
   "execution_count": 65,
   "metadata": {},
   "outputs": [
    {
     "name": "stdout",
     "output_type": "stream",
     "text": [
      "Fitting 5 folds for each of 1 candidates, totalling 5 fits\n",
      "[CV] clf__alpha=0.002, clf__average=False, clf__epsilon=0.05, tfidf__max_df=0.35, tfidf__min_df=2 \n"
     ]
    },
    {
     "name": "stderr",
     "output_type": "stream",
     "text": [
      "/anaconda/lib/python3.6/site-packages/sklearn/linear_model/stochastic_gradient.py:128: FutureWarning: max_iter and tol parameters have been added in <class 'sklearn.linear_model.stochastic_gradient.SGDClassifier'> in 0.19. If both are left unset, they default to max_iter=5 and tol=None. If tol is not None, max_iter defaults to max_iter=1000. From 0.21, default max_iter will be 1000, and default tol will be 1e-3.\n",
      "  \"and default tol will be 1e-3.\" % type(self), FutureWarning)\n"
     ]
    },
    {
     "name": "stdout",
     "output_type": "stream",
     "text": [
      "[CV]  clf__alpha=0.002, clf__average=False, clf__epsilon=0.05, tfidf__max_df=0.35, tfidf__min_df=2, score=0.7548387096774194, total=   0.3s\n",
      "[Parallel(n_jobs=1)]: Done   1 out of   1 | elapsed:    0.5s remaining:    0.0s\n",
      "[CV] clf__alpha=0.002, clf__average=False, clf__epsilon=0.05, tfidf__max_df=0.35, tfidf__min_df=2 \n"
     ]
    },
    {
     "name": "stderr",
     "output_type": "stream",
     "text": [
      "/anaconda/lib/python3.6/site-packages/sklearn/linear_model/stochastic_gradient.py:128: FutureWarning: max_iter and tol parameters have been added in <class 'sklearn.linear_model.stochastic_gradient.SGDClassifier'> in 0.19. If both are left unset, they default to max_iter=5 and tol=None. If tol is not None, max_iter defaults to max_iter=1000. From 0.21, default max_iter will be 1000, and default tol will be 1e-3.\n",
      "  \"and default tol will be 1e-3.\" % type(self), FutureWarning)\n"
     ]
    },
    {
     "name": "stdout",
     "output_type": "stream",
     "text": [
      "[CV]  clf__alpha=0.002, clf__average=False, clf__epsilon=0.05, tfidf__max_df=0.35, tfidf__min_df=2, score=0.7094594594594594, total=   0.3s\n",
      "[Parallel(n_jobs=1)]: Done   2 out of   2 | elapsed:    1.0s remaining:    0.0s\n",
      "[CV] clf__alpha=0.002, clf__average=False, clf__epsilon=0.05, tfidf__max_df=0.35, tfidf__min_df=2 \n"
     ]
    },
    {
     "name": "stderr",
     "output_type": "stream",
     "text": [
      "/anaconda/lib/python3.6/site-packages/sklearn/linear_model/stochastic_gradient.py:128: FutureWarning: max_iter and tol parameters have been added in <class 'sklearn.linear_model.stochastic_gradient.SGDClassifier'> in 0.19. If both are left unset, they default to max_iter=5 and tol=None. If tol is not None, max_iter defaults to max_iter=1000. From 0.21, default max_iter will be 1000, and default tol will be 1e-3.\n",
      "  \"and default tol will be 1e-3.\" % type(self), FutureWarning)\n"
     ]
    },
    {
     "name": "stdout",
     "output_type": "stream",
     "text": [
      "[CV]  clf__alpha=0.002, clf__average=False, clf__epsilon=0.05, tfidf__max_df=0.35, tfidf__min_df=2, score=0.7465753424657534, total=   0.3s\n",
      "[Parallel(n_jobs=1)]: Done   3 out of   3 | elapsed:    1.6s remaining:    0.0s\n",
      "[CV] clf__alpha=0.002, clf__average=False, clf__epsilon=0.05, tfidf__max_df=0.35, tfidf__min_df=2 \n"
     ]
    },
    {
     "name": "stderr",
     "output_type": "stream",
     "text": [
      "/anaconda/lib/python3.6/site-packages/sklearn/linear_model/stochastic_gradient.py:128: FutureWarning: max_iter and tol parameters have been added in <class 'sklearn.linear_model.stochastic_gradient.SGDClassifier'> in 0.19. If both are left unset, they default to max_iter=5 and tol=None. If tol is not None, max_iter defaults to max_iter=1000. From 0.21, default max_iter will be 1000, and default tol will be 1e-3.\n",
      "  \"and default tol will be 1e-3.\" % type(self), FutureWarning)\n"
     ]
    },
    {
     "name": "stdout",
     "output_type": "stream",
     "text": [
      "[CV]  clf__alpha=0.002, clf__average=False, clf__epsilon=0.05, tfidf__max_df=0.35, tfidf__min_df=2, score=0.7361111111111112, total=   0.3s\n",
      "[Parallel(n_jobs=1)]: Done   4 out of   4 | elapsed:    2.1s remaining:    0.0s\n",
      "[CV] clf__alpha=0.002, clf__average=False, clf__epsilon=0.05, tfidf__max_df=0.35, tfidf__min_df=2 \n"
     ]
    },
    {
     "name": "stderr",
     "output_type": "stream",
     "text": [
      "/anaconda/lib/python3.6/site-packages/sklearn/linear_model/stochastic_gradient.py:128: FutureWarning: max_iter and tol parameters have been added in <class 'sklearn.linear_model.stochastic_gradient.SGDClassifier'> in 0.19. If both are left unset, they default to max_iter=5 and tol=None. If tol is not None, max_iter defaults to max_iter=1000. From 0.21, default max_iter will be 1000, and default tol will be 1e-3.\n",
      "  \"and default tol will be 1e-3.\" % type(self), FutureWarning)\n"
     ]
    },
    {
     "name": "stdout",
     "output_type": "stream",
     "text": [
      "[CV]  clf__alpha=0.002, clf__average=False, clf__epsilon=0.05, tfidf__max_df=0.35, tfidf__min_df=2, score=0.717391304347826, total=   0.3s\n",
      "[Parallel(n_jobs=1)]: Done   5 out of   5 | elapsed:    2.6s remaining:    0.0s\n",
      "[Parallel(n_jobs=1)]: Done   5 out of   5 | elapsed:    2.6s finished\n"
     ]
    },
    {
     "name": "stderr",
     "output_type": "stream",
     "text": [
      "/anaconda/lib/python3.6/site-packages/sklearn/linear_model/stochastic_gradient.py:128: FutureWarning: max_iter and tol parameters have been added in <class 'sklearn.linear_model.stochastic_gradient.SGDClassifier'> in 0.19. If both are left unset, they default to max_iter=5 and tol=None. If tol is not None, max_iter defaults to max_iter=1000. From 0.21, default max_iter will be 1000, and default tol will be 1e-3.\n",
      "  \"and default tol will be 1e-3.\" % type(self), FutureWarning)\n"
     ]
    },
    {
     "data": {
      "text/plain": [
       "GridSearchCV(cv=5, error_score='raise',\n",
       "       estimator=Pipeline(memory=None,\n",
       "     steps=[('tfidf', TfidfVectorizer(analyzer='word', binary=True, decode_error='strict',\n",
       "        dtype=<class 'numpy.int64'>, encoding='utf-8', input='content',\n",
       "        lowercase=True, max_df=1.0, max_features=100000, min_df=4,\n",
       "        ngram_range=(1, 1), norm='l2', preprocessor=None, smooth_idf=True,\n",
       "...='l2', power_t=0.5, random_state=None,\n",
       "       shuffle=True, tol=None, verbose=0, warm_start=False))]),\n",
       "       fit_params=None, iid=True, n_jobs=1,\n",
       "       param_grid={'tfidf__max_df': [0.35], 'tfidf__min_df': [2], 'clf__alpha': [0.002], 'clf__average': [False], 'clf__epsilon': [0.05]},\n",
       "       pre_dispatch='2*n_jobs', refit=True, return_train_score='warn',\n",
       "       scoring=None, verbose=100)"
      ]
     },
     "execution_count": 65,
     "metadata": {},
     "output_type": "execute_result"
    }
   ],
   "source": [
    "from sklearn.model_selection import GridSearchCV\n",
    "parameters = {\n",
    "              'tfidf__max_df':[0.35],\n",
    "              'tfidf__min_df':[2],\n",
    "              'clf__alpha':[0.002],\n",
    "              'clf__average':[False],\n",
    "              'clf__epsilon':[0.05],\n",
    "              }\n",
    "\n",
    "grid = GridSearchCV(text_clf, parameters, cv=5, verbose=100)\n",
    "grid.fit(test_x, test_y)"
   ]
  },
  {
   "cell_type": "code",
   "execution_count": 66,
   "metadata": {
    "scrolled": true
   },
   "outputs": [
    {
     "name": "stdout",
     "output_type": "stream",
     "text": [
      "{'clf__alpha': 0.002, 'clf__average': False, 'clf__epsilon': 0.05, 'tfidf__max_df': 0.35, 'tfidf__min_df': 2}\n"
     ]
    }
   ],
   "source": [
    "print(grid.best_params_)"
   ]
  },
  {
   "cell_type": "code",
   "execution_count": 68,
   "metadata": {
    "scrolled": true
   },
   "outputs": [
    {
     "name": "stdout",
     "output_type": "stream",
     "text": [
      "                                           precision    recall  f1-score   support\n",
      "\n",
      "                          Account manager       0.72      0.79      0.76        39\n",
      "                  Administrativ assistent       0.81      0.81      0.81        32\n",
      "                      Barnflicka/Barnvakt       0.95      1.00      0.98        40\n",
      "                              Barnskötare       0.78      0.89      0.83        35\n",
      "                Butikssäljare, fackhandel       0.86      1.00      0.93        32\n",
      "                         Ekonomiassistent       0.95      0.88      0.91        24\n",
      "         Helpdesktekniker/Supporttekniker       1.00      0.83      0.91        42\n",
      "                              Innesäljare       0.86      0.40      0.55        30\n",
      "                    Kundtjänstmedarbetare       0.84      0.93      0.88        72\n",
      "                            Lagerarbetare       0.90      0.87      0.88        30\n",
      "          Lärare i förskola/Förskollärare       0.96      0.75      0.84        36\n",
      "                       Mjukvaruutvecklare       0.88      0.30      0.45        23\n",
      "                      Personlig assistent       0.92      1.00      0.96        76\n",
      "                        Projektledare, IT       0.92      0.46      0.62        26\n",
      "                       Redovisningsekonom       0.88      0.95      0.91        22\n",
      "             Sjuksköterska, grundutbildad       0.91      1.00      0.96        64\n",
      "           Systemutvecklare/Programmerare       0.70      0.97      0.81        79\n",
      "                        Telefonförsäljare       0.86      0.67      0.75        18\n",
      "Undersköterska, hemtjänst och äldreboende       1.00      0.95      0.98        22\n",
      "                               Utesäljare       0.79      0.72      0.75        32\n",
      "\n",
      "                              avg / total       0.86      0.85      0.84       774\n",
      "\n"
     ]
    }
   ],
   "source": [
    "from sklearn import metrics\n",
    "predicted = text_clf.predict(val_x)\n",
    "print(metrics.classification_report(val_y, predicted))"
   ]
  },
  {
   "cell_type": "code",
   "execution_count": 69,
   "metadata": {},
   "outputs": [
    {
     "name": "stdout",
     "output_type": "stream",
     "text": [
      "['Systemutvecklare/Programmerare']\n"
     ]
    }
   ],
   "source": [
    "print(text_clf.predict([\"I have a few passions in my life and one of them is doing crazy innovative apps for the mobile platform. My current app project that I do in my spare time utilizes image recognition in an unexpected way. My two other passions are golf and learning a new language - which I do whenever I have time.\\r\\n\\r\\nAnother thing I like to do is helping people, so if you think I might be able to help you in some way, don't hesitate to ask. I think this creates meaningful relationships in addition to the fact that I like to get engaged in solving problems.\\r\\n\\r\\nI've always had the goal of living and working abroad and this year, 2015, I'm moving to Tokyo.\\r\\n\\r\\n\\r\\nRecent accomplishments\\r\\n\\r\\nCreating and maintaining 20+ professional Android apps for both big (multi-national) and small companies while at Monterosa. Been lead Android developer for several of these apps.\\r\\nSome examples of apps I've been working with:\\r\\n- Banking\\r\\n- Financial trading\\r\\n- Online auction\\r\\n- Messaging\\r\\n- Ad campaigns (games, etc)\\r\\n- Social\\r\\n- Many more..\\r\\n\\r\\nImproved and maintained high performance financial trading software while at Orc Software.\\r\\n\\u00B7 Scrum Master certification.\\r\\n\\u00B7 Lead an effort to improve the performance even further.\\r\\n\\u00B7 Worked with customers to solve (performance) problems and to improve new functionality.\\r\\n\\r\\nFinished in the top two in all of the five single-day mobile app competitions I've entered.\\r\\n\\r\\nTaken every opportunity given to work or study abroad:\\r\\n\\u00B7 2009 - Hong Kong - Studies\\r\\n\\u00B7 2011 - Chicago - Work\\r\\n\\u00B7 2012 - London - Work\\r\\n\\r\\n\\r\\nSpecialties: Android, Java, Android Studio, Gradle, Eclipse, Inventing stuff, Algorithms, C, C++, Git, SVN, Kanban, Scrum, Linux, Optimization, TDD, XML, Objective-C\"]))"
   ]
  },
  {
   "cell_type": "code",
   "execution_count": 543,
   "metadata": {},
   "outputs": [
    {
     "name": "stderr",
     "output_type": "stream",
     "text": [
      "/anaconda/lib/python3.6/site-packages/sklearn/tree/export.py:386: DeprecationWarning: out_file can be set to None starting from 0.18. This will be the default in 0.20.\n",
      "  DeprecationWarning)\n"
     ]
    },
    {
     "ename": "AttributeError",
     "evalue": "'SGDClassifier' object has no attribute 'tree_'",
     "output_type": "error",
     "traceback": [
      "\u001b[0;31m---------------------------------------------------------------------------\u001b[0m",
      "\u001b[0;31mAttributeError\u001b[0m                            Traceback (most recent call last)",
      "\u001b[0;32m<ipython-input-543-2081e012e650>\u001b[0m in \u001b[0;36m<module>\u001b[0;34m()\u001b[0m\n\u001b[1;32m      1\u001b[0m tree.export_graphviz(classifier, feature_names=vecto.get_feature_names(), class_names=classifier.classes_, filled=True, rounded=True,  \n\u001b[0;32m----> 2\u001b[0;31m                          special_characters=True)\n\u001b[0m",
      "\u001b[0;32m/anaconda/lib/python3.6/site-packages/sklearn/tree/export.py\u001b[0m in \u001b[0;36mexport_graphviz\u001b[0;34m(decision_tree, out_file, max_depth, feature_names, class_names, label, filled, leaves_parallel, impurity, node_ids, proportion, rotate, rounded, special_characters)\u001b[0m\n\u001b[1;32m    431\u001b[0m             \u001b[0mrecurse\u001b[0m\u001b[0;34m(\u001b[0m\u001b[0mdecision_tree\u001b[0m\u001b[0;34m,\u001b[0m \u001b[0;36m0\u001b[0m\u001b[0;34m,\u001b[0m \u001b[0mcriterion\u001b[0m\u001b[0;34m=\u001b[0m\u001b[0;34m\"impurity\"\u001b[0m\u001b[0;34m)\u001b[0m\u001b[0;34m\u001b[0m\u001b[0m\n\u001b[1;32m    432\u001b[0m         \u001b[0;32melse\u001b[0m\u001b[0;34m:\u001b[0m\u001b[0;34m\u001b[0m\u001b[0m\n\u001b[0;32m--> 433\u001b[0;31m             \u001b[0mrecurse\u001b[0m\u001b[0;34m(\u001b[0m\u001b[0mdecision_tree\u001b[0m\u001b[0;34m.\u001b[0m\u001b[0mtree_\u001b[0m\u001b[0;34m,\u001b[0m \u001b[0;36m0\u001b[0m\u001b[0;34m,\u001b[0m \u001b[0mcriterion\u001b[0m\u001b[0;34m=\u001b[0m\u001b[0mdecision_tree\u001b[0m\u001b[0;34m.\u001b[0m\u001b[0mcriterion\u001b[0m\u001b[0;34m)\u001b[0m\u001b[0;34m\u001b[0m\u001b[0m\n\u001b[0m\u001b[1;32m    434\u001b[0m \u001b[0;34m\u001b[0m\u001b[0m\n\u001b[1;32m    435\u001b[0m         \u001b[0;31m# If required, draw leaf nodes at same depth as each other\u001b[0m\u001b[0;34m\u001b[0m\u001b[0;34m\u001b[0m\u001b[0m\n",
      "\u001b[0;31mAttributeError\u001b[0m: 'SGDClassifier' object has no attribute 'tree_'"
     ]
    }
   ],
   "source": [
    "tree.export_graphviz(classifier, feature_names=vecto.get_feature_names(), class_names=classifier.classes_, filled=True, rounded=True,  \n",
    "                         special_characters=True)"
   ]
  },
  {
   "cell_type": "code",
   "execution_count": 70,
   "metadata": {},
   "outputs": [
    {
     "name": "stdout",
     "output_type": "stream",
     "text": [
      "['Account manager' 'Administrativ assistent' 'Barnflicka/Barnvakt'\n",
      " 'Barnskötare' 'Butikssäljare, fackhandel' 'Ekonomiassistent'\n",
      " 'Helpdesktekniker/Supporttekniker' 'Innesäljare' 'Kundtjänstmedarbetare'\n",
      " 'Lagerarbetare' 'Lärare i förskola/Förskollärare' 'Mjukvaruutvecklare'\n",
      " 'Personlig assistent' 'Projektledare, IT' 'Redovisningsekonom'\n",
      " 'Sjuksköterska, grundutbildad' 'Systemutvecklare/Programmerare'\n",
      " 'Telefonförsäljare' 'Undersköterska, hemtjänst och äldreboende'\n",
      " 'Utesäljare']\n"
     ]
    }
   ],
   "source": [
    "print(classifier.classes_)"
   ]
  },
  {
   "cell_type": "code",
   "execution_count": 76,
   "metadata": {
    "collapsed": true
   },
   "outputs": [],
   "source": [
    "from sklearn.neighbors import NearestNeighbors, KDTree\n",
    "nbrs = NearestNeighbors(n_neighbors=20).fit(vecto.transform(x))"
   ]
  },
  {
   "cell_type": "code",
   "execution_count": 79,
   "metadata": {},
   "outputs": [
    {
     "name": "stdout",
     "output_type": "stream",
     "text": [
      "[[4833 4577 4744 3234 4650 4762 4775 4620 4901 3843 3740 4971 4607  174\n",
      "  4881 4006 3918 3588 4885 4966]]\n",
      "Är du utvecklare och kan utmana oss? - https://www.arbetsformedlingen.se/Tjanster/Arbetssokande/Platsbanken/annonser/7495098\n",
      "BI-Developer/ Data Scientist for respected travel company - https://www.arbetsformedlingen.se/Tjanster/Arbetssokande/Platsbanken/annonser/7544442\n",
      "Juniora java-utvecklare Giesecke & Devrient - https://www.arbetsformedlingen.se/Tjanster/Arbetssokande/Platsbanken/annonser/7549325\n",
      "Account Manager/säljare - https://www.arbetsformedlingen.se/Tjanster/Arbetssokande/Platsbanken/annonser/21988943\n",
      "Utvecklare?    -Välkommen till oss! - https://www.arbetsformedlingen.se/Tjanster/Arbetssokande/Platsbanken/annonser/22017216\n",
      "Utvecklare?    -Välkommen till oss! - https://www.arbetsformedlingen.se/Tjanster/Arbetssokande/Platsbanken/annonser/21856391\n",
      "Python Developer till nystartat team i företag med mycket data - https://www.arbetsformedlingen.se/Tjanster/Arbetssokande/Platsbanken/annonser/7514865\n",
      "Utvecklare Business Intelligence/Datawarehouse/Databaser - https://www.arbetsformedlingen.se/Tjanster/Arbetssokande/Platsbanken/annonser/7501327\n",
      "Junior Computer Vision/Machine Learning Scientist - https://www.arbetsformedlingen.se/Tjanster/Arbetssokande/Platsbanken/annonser/7497470\n",
      "Work part-time as an English speaking babysitter - https://www.arbetsformedlingen.se/Tjanster/Arbetssokande/Platsbanken/annonser/22003563\n",
      "Work part-time as an English speaking babysitter - https://www.arbetsformedlingen.se/Tjanster/Arbetssokande/Platsbanken/annonser/21937405\n",
      "Utveckla dig och framtidens 5G tillsammans med Xamera! - https://www.arbetsformedlingen.se/Tjanster/Arbetssokande/Platsbanken/annonser/22022653\n",
      "Nyfiken på Ericsson? Gör raketkarriär med Xamera! - https://www.arbetsformedlingen.se/Tjanster/Arbetssokande/Platsbanken/annonser/22026595\n",
      "node.js och IOT utvecklare - https://www.arbetsformedlingen.se/Tjanster/Arbetssokande/Platsbanken/annonser/0018-041341\n",
      "Senior utvecklare som älskar UX/Front-end - https://www.arbetsformedlingen.se/Tjanster/Arbetssokande/Platsbanken/annonser/7550249\n",
      "Work part-time as a German speaking babysitter, Stockholm - https://www.arbetsformedlingen.se/Tjanster/Arbetssokande/Platsbanken/annonser/21997549\n",
      "Work part-time as a German speaking babysitter, Stockholm - https://www.arbetsformedlingen.se/Tjanster/Arbetssokande/Platsbanken/annonser/21927840\n",
      "Work part-time as a German speaking babysitter, Stockholm - https://www.arbetsformedlingen.se/Tjanster/Arbetssokande/Platsbanken/annonser/21937403\n",
      "JAVA-utvecklare till unikt bolag inom mediebranschen - https://www.arbetsformedlingen.se/Tjanster/Arbetssokande/Platsbanken/annonser/7504382\n",
      "Gather around fellow Coders, here’s a saga about One Agency! - https://www.arbetsformedlingen.se/Tjanster/Arbetssokande/Platsbanken/annonser/7555011\n"
     ]
    }
   ],
   "source": [
    "text = \"Driven and dedicated developer with experience from both the public and private sectors. Soft spot for functional programming (especially Haskell), type theory and machine learning.\\r\\n\\r\\nHave had an interest in programming since childhood when I started with Pascal at 12 years of age, and went on to C ++ at age 16.\\r\\n\\r\\nThe present main expertise lies in C++, Objective-C and C#. With a Masters in computer science I have a well-founded understanding of advanced algorithms and also practical experience in machine learning with a focus on Support Vector Machines.\\r\\n\\r\\nPerceived as a positive and responsible person with good communication skills.\"\n",
    "text2 = \"I have a few passions in my life and one of them is doing crazy innovative apps for the mobile platform. My current app project that I do in my spare time utilizes image recognition in an unexpected way. My two other passions are golf and learning a new language - which I do whenever I have time.\\r\\n\\r\\nAnother thing I like to do is helping people, so if you think I might be able to help you in some way, don't hesitate to ask. I think this creates meaningful relationships in addition to the fact that I like to get engaged in solving problems.\\r\\n\\r\\nI've always had the goal of living and working abroad and this year, 2015, I'm moving to Tokyo.\\r\\n\\r\\n\\r\\nRecent accomplishments\\r\\n\\r\\nCreating and maintaining 20+ professional Android apps for both big (multi-national) and small companies while at Monterosa. Been lead Android developer for several of these apps.\\r\\nSome examples of apps I've been working with:\\r\\n- Banking\\r\\n- Financial trading\\r\\n- Online auction\\r\\n- Messaging\\r\\n- Ad campaigns (games, etc)\\r\\n- Social\\r\\n- Many more..\\r\\n\\r\\nImproved and maintained high performance financial trading software while at Orc Software.\\r\\n\\u00B7 Scrum Master certification.\\r\\n\\u00B7 Lead an effort to improve the performance even further.\\r\\n\\u00B7 Worked with customers to solve (performance) problems and to improve new functionality.\\r\\n\\r\\nFinished in the top two in all of the five single-day mobile app competitions I've entered.\\r\\n\\r\\nTaken every opportunity given to work or study abroad:\\r\\n\\u00B7 2009 - Hong Kong - Studies\\r\\n\\u00B7 2011 - Chicago - Work\\r\\n\\u00B7 2012 - London - Work\\r\\n\\r\\n\\r\\nSpecialties: Android, Java, Android Studio, Gradle, Eclipse, Inventing stuff, Algorithms, C, C++, Git, SVN, Kanban, Scrum, Linux, Optimization, TDD, XML, Objective-C\"\n",
    "text3 = \"machine learning\"\n",
    "distances, indices = nbrs.kneighbors(vecto.transform([text3]))\n",
    "print(indices)\n",
    "for i in indices[0]:\n",
    "    print(all_content[ids[i]]['annonsrubrik'] + ' - ' + all_content[ids[i]]['platsannonsUrl'])\n"
   ]
  },
  {
   "cell_type": "code",
   "execution_count": null,
   "metadata": {
    "collapsed": true
   },
   "outputs": [],
   "source": []
  }
 ],
 "metadata": {
  "kernelspec": {
   "display_name": "Python 3",
   "language": "python",
   "name": "python3"
  },
  "language_info": {
   "codemirror_mode": {
    "name": "ipython",
    "version": 3
   },
   "file_extension": ".py",
   "mimetype": "text/x-python",
   "name": "python",
   "nbconvert_exporter": "python",
   "pygments_lexer": "ipython3",
   "version": "3.6.1"
  }
 },
 "nbformat": 4,
 "nbformat_minor": 2
}
